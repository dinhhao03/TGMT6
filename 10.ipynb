{
 "cells": [
  {
   "cell_type": "code",
   "execution_count": 1,
   "id": "eb730c47-881e-423e-a361-9486eff93916",
   "metadata": {},
   "outputs": [],
   "source": [
    "from PIL import Image\n",
    "import matplotlib.pyplot as plt\n",
    "\n",
    "import numpy as np\n",
    "my_path = 'C:/Users/nguye/images/01/img4.jpg'"
   ]
  },
  {
   "cell_type": "code",
   "execution_count": 2,
   "id": "7765eb07-f699-4644-9f34-7738099963be",
   "metadata": {},
   "outputs": [],
   "source": [
    "# Đọc ảnh\n",
    "img = Image.open(my_path)"
   ]
  },
  {
   "cell_type": "code",
   "execution_count": 11,
   "id": "f76fdc57-ff93-47a3-9302-a44b94b33a77",
   "metadata": {},
   "outputs": [],
   "source": [
    "# Chuyển đổi backend\n",
    "plt.switch_backend('tkagg')"
   ]
  },
  {
   "cell_type": "code",
   "execution_count": 26,
   "id": "8ca97fc7-130b-47b2-9c7b-4ad73d1b7c3a",
   "metadata": {},
   "outputs": [
    {
     "data": {
      "text/plain": [
       "Text(0.5, 1.0, 'Click on the image to select points')"
      ]
     },
     "execution_count": 26,
     "metadata": {},
     "output_type": "execute_result"
    }
   ],
   "source": [
    "# Hiển thị ảnh\n",
    "plt.imshow(img)\n",
    "plt.title('Click on the image to select points')"
   ]
  },
  {
   "cell_type": "code",
   "execution_count": 21,
   "id": "6d186ff2-ca35-4990-8cdd-a9249420cba9",
   "metadata": {},
   "outputs": [],
   "source": [
    "# Sử dụng hàm ginput để chọn điểm trên ảnh\n",
    "points = plt.ginput(6)"
   ]
  },
  {
   "cell_type": "code",
   "execution_count": 15,
   "id": "d5c05801-e22b-4d58-a3b2-526b07080888",
   "metadata": {},
   "outputs": [
    {
     "name": "stdout",
     "output_type": "stream",
     "text": [
      "[(1128.532258064516, 851.7741935483873), (918.8548387096773, 509.8387096774195), (931.758064516129, 519.5161290322583)]\n"
     ]
    }
   ],
   "source": [
    "print(points)"
   ]
  },
  {
   "cell_type": "code",
   "execution_count": 22,
   "id": "b1ea76d2-3865-4d3a-89ea-2d1a5b0a0282",
   "metadata": {},
   "outputs": [],
   "source": [
    "# Hiển thị\n",
    "plt.show()"
   ]
  },
  {
   "cell_type": "code",
   "execution_count": 23,
   "id": "fcc966a3-16a2-4d8c-bed6-b98350c7307b",
   "metadata": {},
   "outputs": [],
   "source": [
    "# Vẽ lại các điểm đã chọn bằng dấu * màu đỏ\n",
    "plt.close()"
   ]
  },
  {
   "cell_type": "code",
   "execution_count": 24,
   "id": "11479a82-c930-4cc5-9412-c35fb613bbb9",
   "metadata": {},
   "outputs": [],
   "source": [
    "# Vẽ lại\n",
    "plt.imshow(img)\n",
    "for point in points:\n",
    "    x, y = point\n",
    "    plt.plot(x,y, 'r*')"
   ]
  },
  {
   "cell_type": "code",
   "execution_count": 25,
   "id": "2ca882ef-6953-4a02-b144-f018db0b1ea0",
   "metadata": {},
   "outputs": [],
   "source": [
    "plt.show()"
   ]
  },
  {
   "cell_type": "code",
   "execution_count": null,
   "id": "a2d282c5-3020-4106-a3ec-01f97dc183bb",
   "metadata": {},
   "outputs": [],
   "source": []
  }
 ],
 "metadata": {
  "kernelspec": {
   "display_name": "Python 3 (ipykernel)",
   "language": "python",
   "name": "python3"
  },
  "language_info": {
   "codemirror_mode": {
    "name": "ipython",
    "version": 3
   },
   "file_extension": ".py",
   "mimetype": "text/x-python",
   "name": "python",
   "nbconvert_exporter": "python",
   "pygments_lexer": "ipython3",
   "version": "3.12.4"
  }
 },
 "nbformat": 4,
 "nbformat_minor": 5
}
