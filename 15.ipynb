{
 "cells": [
  {
   "cell_type": "code",
   "execution_count": 1,
   "id": "1d326558-7168-468e-bfbf-cba9459caf7c",
   "metadata": {},
   "outputs": [
    {
     "name": "stdout",
     "output_type": "stream",
     "text": [
      "Defaulting to user installation because normal site-packages is not writeable\n",
      "Requirement already satisfied: scipy in c:\\programdata\\anaconda3\\lib\\site-packages (1.13.1)\n",
      "Requirement already satisfied: numpy<2.3,>=1.22.4 in c:\\programdata\\anaconda3\\lib\\site-packages (from scipy) (1.26.4)\n"
     ]
    }
   ],
   "source": [
    "!pip install scipy\n"
   ]
  },
  {
   "cell_type": "code",
   "execution_count": 2,
   "id": "f272c62c-35c5-488c-ac62-830272207358",
   "metadata": {},
   "outputs": [],
   "source": [
    "from scipy import linalg\n",
    "import numpy as np"
   ]
  },
  {
   "cell_type": "code",
   "execution_count": 3,
   "id": "803fff87-5011-4752-b9f2-2e883eb2408e",
   "metadata": {},
   "outputs": [],
   "source": [
    "# Định nghĩa hệ phương trình tuyến tính\n",
    "A = np.array([[2, 1],[3, 2]])\n",
    "b = np.array([6,8])"
   ]
  },
  {
   "cell_type": "code",
   "execution_count": 4,
   "id": "a4168b63-8c15-4c93-b3b7-82e8fdad71b8",
   "metadata": {},
   "outputs": [
    {
     "name": "stdout",
     "output_type": "stream",
     "text": [
      "Kết quả:  [ 4. -2.]\n"
     ]
    }
   ],
   "source": [
    "x = linalg.solve(A, b)\n",
    "print(\"Kết quả: \", x)"
   ]
  },
  {
   "cell_type": "code",
   "execution_count": 5,
   "id": "757eb859-7568-49ca-926d-78be073d91d9",
   "metadata": {},
   "outputs": [],
   "source": [
    "# Tính tích phân của một hàm số\n",
    "from scipy import integrate"
   ]
  },
  {
   "cell_type": "code",
   "execution_count": 6,
   "id": "5eca2a8b-1f2c-4008-b00e-ff16e6ac1b5d",
   "metadata": {},
   "outputs": [
    {
     "name": "stdout",
     "output_type": "stream",
     "text": [
      "Tích phân f(x) từ 1 đến 2:  (2.3333333333333335, 2.590520390792032e-14)\n"
     ]
    }
   ],
   "source": [
    "# Định nghĩa hàm f(x) = x^2\n",
    "def my_function(x):\n",
    "    return x**2\n",
    "\n",
    "# Tính tích phân của f(x) từ 1 đến 2\n",
    "integral = integrate.quad(my_function, 1, 2);\n",
    "print(\"Tích phân f(x) từ 1 đến 2: \", integral)"
   ]
  },
  {
   "cell_type": "code",
   "execution_count": 7,
   "id": "b5f1957e-f51c-4091-b2a0-810601e27a01",
   "metadata": {},
   "outputs": [],
   "source": [
    "# Tính giá trị riêng và vector riêng của một ma trận:\n",
    "A = np.array([[4,3], [2,1]])"
   ]
  },
  {
   "cell_type": "code",
   "execution_count": 8,
   "id": "cac95c53-76f0-4ca5-9a3a-5802bcac7b8b",
   "metadata": {},
   "outputs": [
    {
     "name": "stdout",
     "output_type": "stream",
     "text": [
      "Giá trị riêng:  [ 5.37228132+0.j -0.37228132+0.j]\n",
      "Vector riêng:  [[ 0.90937671 -0.56576746]\n",
      " [ 0.41597356  0.82456484]]\n"
     ]
    }
   ],
   "source": [
    "# Tính giá trị riêng và vector riêng của ma trận\n",
    "evals, evecs = linalg.eig(A)\n",
    "\n",
    "print(\"Giá trị riêng: \", evals)\n",
    "print(\"Vector riêng: \", evecs)"
   ]
  },
  {
   "cell_type": "code",
   "execution_count": null,
   "id": "a670931d-4015-4e39-a0c1-1709a0a77f32",
   "metadata": {},
   "outputs": [],
   "source": []
  }
 ],
 "metadata": {
  "kernelspec": {
   "display_name": "Python 3 (ipykernel)",
   "language": "python",
   "name": "python3"
  },
  "language_info": {
   "codemirror_mode": {
    "name": "ipython",
    "version": 3
   },
   "file_extension": ".py",
   "mimetype": "text/x-python",
   "name": "python",
   "nbconvert_exporter": "python",
   "pygments_lexer": "ipython3",
   "version": "3.12.4"
  }
 },
 "nbformat": 4,
 "nbformat_minor": 5
}
