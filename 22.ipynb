{
 "cells": [
  {
   "cell_type": "code",
   "execution_count": 2,
   "id": "d096cbb6-5a6c-4825-8e53-d3b63db371bc",
   "metadata": {},
   "outputs": [],
   "source": [
    "import cv2\n",
    "import time"
   ]
  },
  {
   "cell_type": "code",
   "execution_count": 5,
   "id": "12fbf893-7474-4b55-a226-b5a3fdc828e5",
   "metadata": {},
   "outputs": [],
   "source": [
    "# Đọc video từ file\n",
    "my_video = cv2.VideoCapture('C:/Users/nguye/Videos/RickRolled.mp4')"
   ]
  },
  {
   "cell_type": "code",
   "execution_count": 8,
   "id": "95d58469-2c06-40be-95ba-d6c291f8bcec",
   "metadata": {},
   "outputs": [],
   "source": [
    "# Tạo cửa sổ để hiển thị\n",
    "cv2.namedWindow('Video Player', cv2.WINDOW_NORMAL)\n",
    "# Thu nhỏ kích thước cửa sổ video \n",
    "cv2.resizeWindow('Video Player', 540, 380)"
   ]
  },
  {
   "cell_type": "code",
   "execution_count": 10,
   "id": "a3604fe2-cc7e-48d2-8693-e7c4a1ebe938",
   "metadata": {},
   "outputs": [],
   "source": [
    "# Ghi text trên hình ảnh\n",
    "font = cv2.FONT_HERSHEY_SIMPLEX\n",
    "font_color = (255, 255, 255)\n",
    "font_scale = 2\n",
    "font_thicknes = 2"
   ]
  },
  {
   "cell_type": "code",
   "execution_count": 13,
   "id": "19a491f0-6014-4287-9c9d-c456859e1da1",
   "metadata": {},
   "outputs": [],
   "source": [
    "# Hiển thị từng khung hình\n",
    "while True:\n",
    "    # Thời gian trước khi đọc\n",
    "    start_time = time.time()\n",
    "\n",
    "    # Đọc 1 frame\n",
    "    ret, frame = my_video.read()\n",
    "    \n",
    "    # Thoát nếu không thể đọc được frame\n",
    "    if not ret:\n",
    "        break\n",
    "    \n",
    "    # Thời gian sau khi đọc\n",
    "    end_time = time.time()\n",
    "\n",
    "    # Tính FPS\n",
    "    time_diff = end_time - start_time\n",
    "    if time_diff > 0:\n",
    "        fps = 1 / time_diff\n",
    "    else:\n",
    "        fps = 0\n",
    "    # Ghi số lượng FPS\n",
    "    cv2.putText(frame, f'FPS: {fps:.2f}', (100, 100), font, font_scale, font_color, font_thicknes)\n",
    "    \n",
    "    # Hiển thị\n",
    "    cv2.imshow('Video Player', frame)\n",
    "\n",
    "    if(cv2.waitKey(10) == ord('q')):\n",
    "        break"
   ]
  },
  {
   "cell_type": "code",
   "execution_count": 16,
   "id": "ba91101e-d6c2-450f-9aa9-d83b327285cc",
   "metadata": {},
   "outputs": [],
   "source": [
    "# Hủy bỏ player\n",
    "my_video.release()\n",
    "cv2.destroyAllWindows()"
   ]
  },
  {
   "cell_type": "code",
   "execution_count": null,
   "id": "95965e37-0445-4203-b1dc-635b9284e1a5",
   "metadata": {},
   "outputs": [],
   "source": []
  }
 ],
 "metadata": {
  "kernelspec": {
   "display_name": "Python 3 (ipykernel)",
   "language": "python",
   "name": "python3"
  },
  "language_info": {
   "codemirror_mode": {
    "name": "ipython",
    "version": 3
   },
   "file_extension": ".py",
   "mimetype": "text/x-python",
   "name": "python",
   "nbconvert_exporter": "python",
   "pygments_lexer": "ipython3",
   "version": "3.12.4"
  }
 },
 "nbformat": 4,
 "nbformat_minor": 5
}
